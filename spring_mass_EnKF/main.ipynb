{
 "cells": [
  {
   "cell_type": "markdown",
   "metadata": {},
   "source": [
    "#Ensemble Kalman filter\n",
    "The code is not yet completed, it has some overflow issue"
   ]
  },
  {
   "cell_type": "code",
   "execution_count": 181,
   "metadata": {},
   "outputs": [],
   "source": [
    "# import all the required packages\n",
    "import numpy as np\n",
    "import matplotlib.pyplot as plt"
   ]
  },
  {
   "cell_type": "code",
   "execution_count": 116,
   "metadata": {},
   "outputs": [],
   "source": [
    "## functions defined\n",
    "# process equation:\n",
    "def f(x,u):\n",
    "    tol = 1e-10\n",
    "    dt = 0.01\n",
    "    x = rk45(x,u,dt,tol)\n",
    "\n",
    "    return x\n",
    "\n",
    "# measurement equation:\n",
    "def g(x,u):\n",
    "    m = 1\n",
    "    k = 100\n",
    "    c = 0.01\n",
    "    C = np.array([-k/m,-c/m])\n",
    "    D = np.array([1])\n",
    "    y = C@x + D*u\n",
    "\n",
    "    return y\n",
    "\n",
    "# runga-kutta combined 4th and 5th order solver\n",
    "def rk45(x,u,dt,tol):\n",
    "    x1 = rk4(x,u,dt)\n",
    "    x2 = rk5(x,u,dt)\n",
    "    itr = 1\n",
    "    h = dt\n",
    "\n",
    "    while abs(x1-x2).all() > tol/itr:\n",
    "        itr = itr + 1\n",
    "        h = dt/itr\n",
    "        x1 = rk4(x,u,h)\n",
    "        x2 = rk5(x,u,h)\n",
    "    \n",
    "    for i in range(itr):\n",
    "        x = rk5(x,u,h)\n",
    "\n",
    "    return x \n",
    "\n",
    "# runga-kutta 4th order solver\n",
    "def rk4(x,u,dt):\n",
    "    k1 = ss_model(x,u)\n",
    "    k2 = ss_model(x+dt/2*k1,u)\n",
    "    k3 = ss_model(x+dt/2*k2,u)\n",
    "    k4 = ss_model(x+dt*k3,u)\n",
    "    x = x + dt/6*(k1+2*k2+2*k3+k4)\n",
    "    return x\n",
    "\n",
    "# runga-kutta 5th order solver\n",
    "def rk5(x,u,dt):\n",
    "    k1 = ss_model(x,u)\n",
    "    k2 = ss_model(x+dt/4*k1,u)    \n",
    "    k3 = ss_model(x+dt/8*k1+dt/8*k2,u) \n",
    "    k4 = ss_model(x-dt/2*k2+dt*k3,u)\n",
    "    k5 = ss_model(x+3/16*dt*k1+9/16*dt*k4,u)\n",
    "    k6 = ss_model(x-3/7*dt*k1+2/7*dt*k2+12/7*dt*k3-12/7*dt*k4+8/7*dt*k5,u)\n",
    "    x = x + dt/90*(7*k1+32*k3+12*k4+32*k5+7*k6)\n",
    "\n",
    "    return x\n",
    "\n",
    "# state-space model\n",
    "def ss_model(x,u):\n",
    "    m = 1\n",
    "    k = 100\n",
    "    c = 0.01\n",
    "    duffing_k = 100\n",
    "    x_derivative = np.array([[x[1][0]],[-k/m*x[0][0]-c/m*x[1][0]+u/m-duffing_k*x[0][0]/m]])\n",
    "\n",
    "    return x_derivative"
   ]
  },
  {
   "cell_type": "code",
   "execution_count": 190,
   "metadata": {},
   "outputs": [],
   "source": [
    "# measurement data generation\n",
    "u_store = np.zeros(1000)\n",
    "y_meas = np.zeros((1000,1))\n",
    "x = np.array([[0.0],[0]])\n",
    "for i in range(1000):\n",
    "    # u = np.random.randn()\n",
    "    u = 0\n",
    "    x = f(x,u)\n",
    "    y = g(x,u)\n",
    "\n",
    "    u_store[i] = u\n",
    "    y_meas[i] = y[0]"
   ]
  },
  {
   "cell_type": "code",
   "execution_count": 170,
   "metadata": {},
   "outputs": [
    {
     "data": {
      "text/plain": [
       "0"
      ]
     },
     "execution_count": 170,
     "metadata": {},
     "output_type": "execute_result"
    }
   ],
   "source": [
    "u"
   ]
  },
  {
   "cell_type": "code",
   "execution_count": 191,
   "metadata": {},
   "outputs": [
    {
     "name": "stderr",
     "output_type": "stream",
     "text": [
      "C:\\Users\\smicr\\AppData\\Local\\Temp\\ipykernel_28512\\2352929192.py:57: RuntimeWarning: overflow encountered in matmul\n",
      "  P_xx = 1/(q-1)*E_xx@E_xx.T\n",
      "C:\\Users\\smicr\\AppData\\Local\\Temp\\ipykernel_28512\\2352929192.py:53: RuntimeWarning: overflow encountered in matmul\n",
      "  x_samples = x_samples + K@(y_meas_samples-y_samples)\n",
      "C:\\Users\\smicr\\AppData\\Local\\Temp\\ipykernel_28512\\2186202057.py:66: RuntimeWarning: invalid value encountered in scalar subtract\n",
      "  x_derivative = np.array([[x[1][0]],[-k/m*x[0][0]-c/m*x[1][0]+u/m-duffing_k*x[0][0]/m]])\n",
      "C:\\Users\\smicr\\AppData\\Local\\Temp\\ipykernel_28512\\2186202057.py:42: RuntimeWarning: invalid value encountered in add\n",
      "  k2 = ss_model(x+dt/2*k1,u)\n",
      "C:\\Users\\smicr\\AppData\\Local\\Temp\\ipykernel_28512\\2186202057.py:51: RuntimeWarning: invalid value encountered in add\n",
      "  k2 = ss_model(x+dt/4*k1,u)\n",
      "C:\\Users\\smicr\\AppData\\Local\\Temp\\ipykernel_28512\\2186202057.py:52: RuntimeWarning: invalid value encountered in add\n",
      "  k3 = ss_model(x+dt/8*k1+dt/8*k2,u)\n",
      "C:\\Users\\smicr\\AppData\\Local\\Temp\\ipykernel_28512\\2186202057.py:54: RuntimeWarning: invalid value encountered in add\n",
      "  k5 = ss_model(x+3/16*dt*k1+9/16*dt*k4,u)\n"
     ]
    },
    {
     "ename": "KeyboardInterrupt",
     "evalue": "",
     "output_type": "error",
     "traceback": [
      "\u001b[1;31m---------------------------------------------------------------------------\u001b[0m",
      "\u001b[1;31mKeyboardInterrupt\u001b[0m                         Traceback (most recent call last)",
      "Cell \u001b[1;32mIn[191], line 34\u001b[0m\n\u001b[0;32m     32\u001b[0m \u001b[38;5;66;03m# prediction/forecast step\u001b[39;00m\n\u001b[0;32m     33\u001b[0m \u001b[38;5;28;01mfor\u001b[39;00m j \u001b[38;5;129;01min\u001b[39;00m \u001b[38;5;28mrange\u001b[39m(q):\n\u001b[1;32m---> 34\u001b[0m     x_samples[:,j] \u001b[38;5;241m=\u001b[39m f(np\u001b[38;5;241m.\u001b[39mreshape(x_samples[:,j],(n,\u001b[38;5;241m1\u001b[39m)),u)[:,\u001b[38;5;241m0\u001b[39m]\n\u001b[0;32m     36\u001b[0m x_mean \u001b[38;5;241m=\u001b[39m np\u001b[38;5;241m.\u001b[39mreshape(np\u001b[38;5;241m.\u001b[39mmean(x_samples,\u001b[38;5;241m1\u001b[39m),(n,\u001b[38;5;241m1\u001b[39m))\n\u001b[0;32m     38\u001b[0m E_xx \u001b[38;5;241m=\u001b[39m x_samples \u001b[38;5;241m-\u001b[39m x_mean     \n",
      "Cell \u001b[1;32mIn[116], line 6\u001b[0m, in \u001b[0;36mf\u001b[1;34m(x, u)\u001b[0m\n\u001b[0;32m      4\u001b[0m tol \u001b[38;5;241m=\u001b[39m \u001b[38;5;241m1e-10\u001b[39m\n\u001b[0;32m      5\u001b[0m dt \u001b[38;5;241m=\u001b[39m \u001b[38;5;241m0.01\u001b[39m\n\u001b[1;32m----> 6\u001b[0m x \u001b[38;5;241m=\u001b[39m rk45(x,u,dt,tol)\n\u001b[0;32m      8\u001b[0m \u001b[38;5;28;01mreturn\u001b[39;00m x\n",
      "Cell \u001b[1;32mIn[116], line 31\u001b[0m, in \u001b[0;36mrk45\u001b[1;34m(x, u, dt, tol)\u001b[0m\n\u001b[0;32m     29\u001b[0m     itr \u001b[38;5;241m=\u001b[39m itr \u001b[38;5;241m+\u001b[39m \u001b[38;5;241m1\u001b[39m\n\u001b[0;32m     30\u001b[0m     h \u001b[38;5;241m=\u001b[39m dt\u001b[38;5;241m/\u001b[39mitr\n\u001b[1;32m---> 31\u001b[0m     x1 \u001b[38;5;241m=\u001b[39m rk4(x,u,h)\n\u001b[0;32m     32\u001b[0m     x2 \u001b[38;5;241m=\u001b[39m rk5(x,u,h)\n\u001b[0;32m     34\u001b[0m \u001b[38;5;28;01mfor\u001b[39;00m i \u001b[38;5;129;01min\u001b[39;00m \u001b[38;5;28mrange\u001b[39m(itr):\n",
      "Cell \u001b[1;32mIn[116], line 42\u001b[0m, in \u001b[0;36mrk4\u001b[1;34m(x, u, dt)\u001b[0m\n\u001b[0;32m     40\u001b[0m \u001b[38;5;28;01mdef\u001b[39;00m \u001b[38;5;21mrk4\u001b[39m(x,u,dt):\n\u001b[0;32m     41\u001b[0m     k1 \u001b[38;5;241m=\u001b[39m ss_model(x,u)\n\u001b[1;32m---> 42\u001b[0m     k2 \u001b[38;5;241m=\u001b[39m ss_model(x\u001b[38;5;241m+\u001b[39mdt\u001b[38;5;241m/\u001b[39m\u001b[38;5;241m2\u001b[39m\u001b[38;5;241m*\u001b[39mk1,u)\n\u001b[0;32m     43\u001b[0m     k3 \u001b[38;5;241m=\u001b[39m ss_model(x\u001b[38;5;241m+\u001b[39mdt\u001b[38;5;241m/\u001b[39m\u001b[38;5;241m2\u001b[39m\u001b[38;5;241m*\u001b[39mk2,u)\n\u001b[0;32m     44\u001b[0m     k4 \u001b[38;5;241m=\u001b[39m ss_model(x\u001b[38;5;241m+\u001b[39mdt\u001b[38;5;241m*\u001b[39mk3,u)\n",
      "Cell \u001b[1;32mIn[116], line 61\u001b[0m, in \u001b[0;36mss_model\u001b[1;34m(x, u)\u001b[0m\n\u001b[0;32m     58\u001b[0m     \u001b[38;5;28;01mreturn\u001b[39;00m x\n\u001b[0;32m     60\u001b[0m \u001b[38;5;66;03m# state-space model\u001b[39;00m\n\u001b[1;32m---> 61\u001b[0m \u001b[38;5;28;01mdef\u001b[39;00m \u001b[38;5;21mss_model\u001b[39m(x,u):\n\u001b[0;32m     62\u001b[0m     m \u001b[38;5;241m=\u001b[39m \u001b[38;5;241m1\u001b[39m\n\u001b[0;32m     63\u001b[0m     k \u001b[38;5;241m=\u001b[39m \u001b[38;5;241m100\u001b[39m\n",
      "\u001b[1;31mKeyboardInterrupt\u001b[0m: "
     ]
    }
   ],
   "source": [
    "T = 10 # 10 seconds\n",
    "freq = 100 # sampling frequency\n",
    "dt = 1/freq\n",
    "t = np.linspace(0,10,1001,endpoint=True)\n",
    "\n",
    "n = 2 # size of state x\n",
    "m = 1 # size of measurement y\n",
    "q = 100 # number of samples in EnKF\n",
    "\n",
    "Q = np.diag([0.001,0.01])\n",
    "R = np.diag([0.01])\n",
    "Q_chol = np.linalg.cholesky(Q)\n",
    "R_chol = np.linalg.cholesky(R)\n",
    "\n",
    "x_store = np.zeros((n,1001))\n",
    "y_store = np.zeros((m,1001))\n",
    "x_sigma_store = np.zeros((n,1001))\n",
    "y_sigma_store = np.zeros((m,1001))\n",
    "x_samples = np.zeros((n,q))\n",
    "y_samples = np.zeros((m,q))\n",
    "\n",
    "# initialize\n",
    "x = np.array([[0.0],[0.]])\n",
    "x_samples = x + Q_chol@np.random.randn(n,q)\n",
    "\n",
    "x_store[:,0] = x[:,0]\n",
    "x_sigma_store[:,0] = np.diag(Q_chol)\n",
    "for i in range(1000):\n",
    "    u = u_store[i]\n",
    "    y_meas = y_store[:,i]\n",
    "\n",
    "    # prediction/forecast step\n",
    "    for j in range(q):\n",
    "        x_samples[:,j] = f(np.reshape(x_samples[:,j],(n,1)),u)[:,0]\n",
    "\n",
    "    x_mean = np.reshape(np.mean(x_samples,1),(n,1))\n",
    "\n",
    "    E_xx = x_samples - x_mean     \n",
    "    # P_xx = 1/(q-1)*E_xx@E_xx.T # here there is no need to predict covarinace P\n",
    "\n",
    "    # update/analysis step\n",
    "    for j in range(q):\n",
    "        y_samples[:,j] = g(np.reshape(x_samples[:,j],(n,1)),u)\n",
    "    y_meas_samples = y_meas + R_chol@np.random.randn(m,q)\n",
    "    y_meas_mean = np.mean(y_meas_samples)\n",
    "\n",
    "    E_yy = y_meas_samples - y_meas_mean\n",
    "    P_yy = 1/(q-1)*E_yy@E_yy.T\n",
    "    P_xy = 1/(q-1)*E_xx@E_yy.T\n",
    "\n",
    "    K = P_xy@np.linalg.inv(P_yy)\n",
    "\n",
    "    x_samples = x_samples + K@(y_meas_samples-y_samples)\n",
    "    x_mean = np.reshape(np.mean(x_samples,1),(n,1))\n",
    "\n",
    "    E_xx = x_samples - x_mean\n",
    "    P_xx = 1/(q-1)*E_xx@E_xx.T\n",
    "\n",
    "    x_store[:,i+1] = x_mean[:,0]\n",
    "    x_sigma_store[:,i+1] = np.diag(P_xx)**0.5\n",
    "    "
   ]
  },
  {
   "cell_type": "code",
   "execution_count": 186,
   "metadata": {},
   "outputs": [
    {
     "data": {
      "text/plain": [
       "array([[0.06198064, 0.41511706, 0.26989505, ..., 0.        , 0.        ,\n",
       "        0.        ],\n",
       "       [0.06198064, 0.35554699, 1.18484363, ..., 0.        , 0.        ,\n",
       "        0.        ]])"
      ]
     },
     "execution_count": 186,
     "metadata": {},
     "output_type": "execute_result"
    }
   ],
   "source": [
    "x_store[0:]+1.96*x_sigma_store[0,:]"
   ]
  },
  {
   "cell_type": "code",
   "execution_count": 187,
   "metadata": {},
   "outputs": [
    {
     "data": {
      "image/png": "[encoded data removed]",
      "text/plain": [
       "<Figure size 1400x800 with 1 Axes>"
      ]
     },
     "metadata": {},
     "output_type": "display_data"
    }
   ],
   "source": [
    "# plots\n",
    "m = 1 # no of plots\n",
    "fig = plt.figure(figsize=(14,8), dpi=100)\n",
    "for j in range(m):\n",
    "    plt.fill_between(t, x_store[0,:]-1.96*x_sigma_store[0,:], x_store[0,:]+1.96*x_sigma_store[0,:], alpha=0.3)\n",
    "    plt.plot(t,x_store[0,:])\n",
    "    # plt.plot(t,mat02[100*j:100*(j+1),0],'r*',markersize=2)\n",
    "fig.supxlabel('time in seconds')\n",
    "fig.supylabel('displacement in meters')\n",
    "plt.show()\n"
   ]
  }
 ],
 "metadata": {
  "kernelspec": {
   "display_name": "base",
   "language": "python",
   "name": "python3"
  },
  "language_info": {
   "codemirror_mode": {
    "name": "ipython",
    "version": 3
   },
   "file_extension": ".py",
   "mimetype": "text/x-python",
   "name": "python",
   "nbconvert_exporter": "python",
   "pygments_lexer": "ipython3",
   "version": "3.11.5"
  }
 },
 "nbformat": 4,
 "nbformat_minor": 2
}
